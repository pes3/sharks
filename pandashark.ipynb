{
 "cells": [
  {
   "cell_type": "markdown",
   "metadata": {},
   "source": [
    "Let's scrape some data about sharks from a webpage"
   ]
  },
  {
   "cell_type": "code",
   "execution_count": 2,
   "metadata": {},
   "outputs": [],
   "source": [
    "import pandas as pd\n",
    "import re ## added \n",
    "import bs4\n",
    "import sqlite3\n",
    "import requests\n",
    "import textwrap\n",
    "\n",
    "res = requests.get('http://www.sharkresearchcommittee.com/pacific_coast_shark_news.htm')\n",
    "res.raise_for_status()\n",
    "soup = bs4.BeautifulSoup(res.text, 'html.parser')\n",
    "\n",
    "news = [p.text.strip() for p in soup.select('h1 ~ p') if p.find('font')]\n",
    "\n",
    "\n",
    "\n"
   ]
  },
  {
   "cell_type": "markdown",
   "metadata": {},
   "source": [
    "Let's store the data we screaped into a database"
   ]
  },
  {
   "cell_type": "code",
   "execution_count": 7,
   "metadata": {},
   "outputs": [],
   "source": [
    "c = sqlite3.connect('shark.db')\n",
    "try:\n",
    "    c.execute('''CREATE TABLE\n",
    "                    mytable (Location        STRING,\n",
    "                             Date            STRING,\n",
    "                             Description     STRING)''')\n",
    "except sqlite3.OperationalError: #i.e. table exists already\n",
    "    pass\n",
    "\n",
    "for n in news:\n",
    "        groups = re.match(r'(.*?)\\W+—?\\W+On\\W+(.*?\\d{4})\\W*(.*)', n, flags=re.DOTALL)\n",
    "        if not groups:\n",
    "            continue\n",
    "        place, date, article = groups[1], groups[2], groups[3]\n",
    "\n",
    "        c.execute('''INSERT INTO mytable(Location, Date, Description) VALUES(?,?,?)''',\n",
    "            (place, date, article))\n",
    "c.commit()\n"
   ]
  },
  {
   "cell_type": "markdown",
   "metadata": {},
   "source": [
    "The data has been stored into a database, now let's turn it into a datafram and analyze it via Pandas"
   ]
  },
  {
   "cell_type": "code",
   "execution_count": 10,
   "metadata": {},
   "outputs": [],
   "source": [
    "df = pd.read_sql_query(\"select * from mytable;\",c)"
   ]
  },
  {
   "cell_type": "code",
   "execution_count": 11,
   "metadata": {},
   "outputs": [
    {
     "data": {
      "text/html": [
       "<div>\n",
       "<style scoped>\n",
       "    .dataframe tbody tr th:only-of-type {\n",
       "        vertical-align: middle;\n",
       "    }\n",
       "\n",
       "    .dataframe tbody tr th {\n",
       "        vertical-align: top;\n",
       "    }\n",
       "\n",
       "    .dataframe thead th {\n",
       "        text-align: right;\n",
       "    }\n",
       "</style>\n",
       "<table border=\"1\" class=\"dataframe\">\n",
       "  <thead>\n",
       "    <tr style=\"text-align: right;\">\n",
       "      <th></th>\n",
       "      <th>Location</th>\n",
       "      <th>Date</th>\n",
       "      <th>Description</th>\n",
       "    </tr>\n",
       "  </thead>\n",
       "  <tbody>\n",
       "    <tr>\n",
       "      <th>0</th>\n",
       "      <td>Shell Beach</td>\n",
       "      <td>August 1, 2018</td>\n",
       "      <td>Kristen Sanchez was paddling an outrigger with...</td>\n",
       "    </tr>\n",
       "    <tr>\n",
       "      <th>1</th>\n",
       "      <td>Monterey Bay</td>\n",
       "      <td>August 1, 2018</td>\n",
       "      <td>Eric Keener was spearfishing for California  H...</td>\n",
       "    </tr>\n",
       "  </tbody>\n",
       "</table>\n",
       "</div>"
      ],
      "text/plain": [
       "       Location            Date  \\\n",
       "0   Shell Beach  August 1, 2018   \n",
       "1  Monterey Bay  August 1, 2018   \n",
       "\n",
       "                                         Description  \n",
       "0  Kristen Sanchez was paddling an outrigger with...  \n",
       "1  Eric Keener was spearfishing for California  H...  "
      ]
     },
     "execution_count": 11,
     "metadata": {},
     "output_type": "execute_result"
    }
   ],
   "source": [
    "df.head(2)"
   ]
  },
  {
   "cell_type": "code",
   "execution_count": 13,
   "metadata": {},
   "outputs": [],
   "source": [
    "df.set_index('Location', inplace=True)\n"
   ]
  },
  {
   "cell_type": "code",
   "execution_count": 14,
   "metadata": {},
   "outputs": [
    {
     "data": {
      "text/html": [
       "<div>\n",
       "<style scoped>\n",
       "    .dataframe tbody tr th:only-of-type {\n",
       "        vertical-align: middle;\n",
       "    }\n",
       "\n",
       "    .dataframe tbody tr th {\n",
       "        vertical-align: top;\n",
       "    }\n",
       "\n",
       "    .dataframe thead th {\n",
       "        text-align: right;\n",
       "    }\n",
       "</style>\n",
       "<table border=\"1\" class=\"dataframe\">\n",
       "  <thead>\n",
       "    <tr style=\"text-align: right;\">\n",
       "      <th></th>\n",
       "      <th>Date</th>\n",
       "      <th>Description</th>\n",
       "    </tr>\n",
       "    <tr>\n",
       "      <th>Location</th>\n",
       "      <th></th>\n",
       "      <th></th>\n",
       "    </tr>\n",
       "  </thead>\n",
       "  <tbody>\n",
       "    <tr>\n",
       "      <th>Shell Beach</th>\n",
       "      <td>August 1, 2018</td>\n",
       "      <td>Kristen Sanchez was paddling an outrigger with...</td>\n",
       "    </tr>\n",
       "    <tr>\n",
       "      <th>Monterey Bay</th>\n",
       "      <td>August 1, 2018</td>\n",
       "      <td>Eric Keener was spearfishing for California  H...</td>\n",
       "    </tr>\n",
       "    <tr>\n",
       "      <th>Pacifica</th>\n",
       "      <td>July 27, 2018</td>\n",
       "      <td>Kris Lopez was surfing with 4 unidentified  su...</td>\n",
       "    </tr>\n",
       "  </tbody>\n",
       "</table>\n",
       "</div>"
      ],
      "text/plain": [
       "                        Date  \\\n",
       "Location                       \n",
       "Shell Beach   August 1, 2018   \n",
       "Monterey Bay  August 1, 2018   \n",
       "Pacifica       July 27, 2018   \n",
       "\n",
       "                                                    Description  \n",
       "Location                                                         \n",
       "Shell Beach   Kristen Sanchez was paddling an outrigger with...  \n",
       "Monterey Bay  Eric Keener was spearfishing for California  H...  \n",
       "Pacifica      Kris Lopez was surfing with 4 unidentified  su...  "
      ]
     },
     "execution_count": 14,
     "metadata": {},
     "output_type": "execute_result"
    }
   ],
   "source": [
    "df.head(3)"
   ]
  },
  {
   "cell_type": "code",
   "execution_count": 21,
   "metadata": {},
   "outputs": [],
   "source": [
    "freq = df.groupby('Location').count()\n"
   ]
  },
  {
   "cell_type": "code",
   "execution_count": 27,
   "metadata": {
    "scrolled": true
   },
   "outputs": [
    {
     "data": {
      "text/html": [
       "<div>\n",
       "<style scoped>\n",
       "    .dataframe tbody tr th:only-of-type {\n",
       "        vertical-align: middle;\n",
       "    }\n",
       "\n",
       "    .dataframe tbody tr th {\n",
       "        vertical-align: top;\n",
       "    }\n",
       "\n",
       "    .dataframe thead th {\n",
       "        text-align: right;\n",
       "    }\n",
       "</style>\n",
       "<table border=\"1\" class=\"dataframe\">\n",
       "  <thead>\n",
       "    <tr style=\"text-align: right;\">\n",
       "      <th></th>\n",
       "      <th>Date</th>\n",
       "      <th>Description</th>\n",
       "    </tr>\n",
       "    <tr>\n",
       "      <th>Location</th>\n",
       "      <th></th>\n",
       "      <th></th>\n",
       "    </tr>\n",
       "  </thead>\n",
       "  <tbody>\n",
       "    <tr>\n",
       "      <th>Bolinas</th>\n",
       "      <td>7</td>\n",
       "      <td>7</td>\n",
       "    </tr>\n",
       "    <tr>\n",
       "      <th>Carpinteria</th>\n",
       "      <td>35</td>\n",
       "      <td>35</td>\n",
       "    </tr>\n",
       "    <tr>\n",
       "      <th>Cataline Island</th>\n",
       "      <td>7</td>\n",
       "      <td>7</td>\n",
       "    </tr>\n",
       "    <tr>\n",
       "      <th>Goleta</th>\n",
       "      <td>14</td>\n",
       "      <td>14</td>\n",
       "    </tr>\n",
       "    <tr>\n",
       "      <th>Grover Beach</th>\n",
       "      <td>7</td>\n",
       "      <td>7</td>\n",
       "    </tr>\n",
       "    <tr>\n",
       "      <th>Manhattan Beach</th>\n",
       "      <td>7</td>\n",
       "      <td>7</td>\n",
       "    </tr>\n",
       "    <tr>\n",
       "      <th>Monterey Bay</th>\n",
       "      <td>7</td>\n",
       "      <td>7</td>\n",
       "    </tr>\n",
       "    <tr>\n",
       "      <th>New Brighton State Beach</th>\n",
       "      <td>7</td>\n",
       "      <td>7</td>\n",
       "    </tr>\n",
       "    <tr>\n",
       "      <th>Oceanside</th>\n",
       "      <td>7</td>\n",
       "      <td>7</td>\n",
       "    </tr>\n",
       "    <tr>\n",
       "      <th>Pacifica</th>\n",
       "      <td>7</td>\n",
       "      <td>7</td>\n",
       "    </tr>\n",
       "    <tr>\n",
       "      <th>San Onofre State Beach</th>\n",
       "      <td>14</td>\n",
       "      <td>14</td>\n",
       "    </tr>\n",
       "    <tr>\n",
       "      <th>Santa Barbara</th>\n",
       "      <td>7</td>\n",
       "      <td>7</td>\n",
       "    </tr>\n",
       "    <tr>\n",
       "      <th>Santa Monica</th>\n",
       "      <td>7</td>\n",
       "      <td>7</td>\n",
       "    </tr>\n",
       "    <tr>\n",
       "      <th>Seacliff State Beach</th>\n",
       "      <td>7</td>\n",
       "      <td>7</td>\n",
       "    </tr>\n",
       "    <tr>\n",
       "      <th>Shell Beach</th>\n",
       "      <td>7</td>\n",
       "      <td>7</td>\n",
       "    </tr>\n",
       "    <tr>\n",
       "      <th>Torrey Pines State Beach</th>\n",
       "      <td>7</td>\n",
       "      <td>7</td>\n",
       "    </tr>\n",
       "    <tr>\n",
       "      <th>Venice</th>\n",
       "      <td>7</td>\n",
       "      <td>7</td>\n",
       "    </tr>\n",
       "    <tr>\n",
       "      <th>Ventura</th>\n",
       "      <td>21</td>\n",
       "      <td>21</td>\n",
       "    </tr>\n",
       "  </tbody>\n",
       "</table>\n",
       "</div>"
      ],
      "text/plain": [
       "                          Date  Description\n",
       "Location                                   \n",
       "Bolinas                      7            7\n",
       "Carpinteria                 35           35\n",
       "Cataline Island              7            7\n",
       "Goleta                      14           14\n",
       "Grover Beach                 7            7\n",
       "Manhattan Beach              7            7\n",
       "Monterey Bay                 7            7\n",
       "New Brighton State Beach     7            7\n",
       "Oceanside                    7            7\n",
       "Pacifica                     7            7\n",
       "San Onofre State Beach      14           14\n",
       "Santa Barbara                7            7\n",
       "Santa Monica                 7            7\n",
       "Seacliff State Beach         7            7\n",
       "Shell Beach                  7            7\n",
       "Torrey Pines State Beach     7            7\n",
       "Venice                       7            7\n",
       "Ventura                     21           21"
      ]
     },
     "execution_count": 27,
     "metadata": {},
     "output_type": "execute_result"
    }
   ],
   "source": [
    "freq"
   ]
  },
  {
   "cell_type": "markdown",
   "metadata": {},
   "source": [
    "As you can see, that Carpinteria has the most recorded shark sightings by the publich "
   ]
  },
  {
   "cell_type": "code",
   "execution_count": null,
   "metadata": {},
   "outputs": [],
   "source": []
  }
 ],
 "metadata": {
  "kernelspec": {
   "display_name": "Python 3",
   "language": "python",
   "name": "python3"
  },
  "language_info": {
   "codemirror_mode": {
    "name": "ipython",
    "version": 3
   },
   "file_extension": ".py",
   "mimetype": "text/x-python",
   "name": "python",
   "nbconvert_exporter": "python",
   "pygments_lexer": "ipython3",
   "version": "3.6.6"
  }
 },
 "nbformat": 4,
 "nbformat_minor": 2
}
