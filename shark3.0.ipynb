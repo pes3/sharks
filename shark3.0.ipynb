{
 "cells": [
  {
   "cell_type": "code",
   "execution_count": 1,
   "metadata": {
    "scrolled": true
   },
   "outputs": [
    {
     "name": "stdout",
     "output_type": "stream",
     "text": [
      "Details:  On July 10, 2018 Andy Kastenberg reported the following; \"I took a paddle from North  of Emma Wood State Beach in Ventura to the South part of the inner reef at  about 1:00 PM PST. A small South swell mixed with some wind swell was showing.  The West wind was just starting to puff but the water texture was still pretty  glassy. Outside air temperature was an estimated 80+ degrees Fahrenheit and the water  seemed to be nearing 70 degrees Fahrenheit. After catching a wave or two, a 6  foot shark appeared in the face of a set wave (four foot face). Without  expertise, my guess is that it was a young Great White Shark. Another guy  in the water said that he had seen one in the area for several days prior as  did another surfer back up the beach where I had parked.\" Please report any shark sighting, encounter, or  attack to the Shark Research Committee.\n"
     ]
    }
   ],
   "source": [
    "import twilio\n",
    "from twilio.rest import Client\n",
    "import json\n",
    "import bs4\n",
    "import requests\n",
    "from pprint import pprint\n",
    "\n",
    "data = json.loads(open('secret.json', 'r').read())\n",
    "\n",
    "\n",
    "res = requests.get('http://www.sharkresearchcommittee.com/pacific_coast_shark_news.htm')\n",
    "res.raise_for_status()\n",
    "soup = bs4.BeautifulSoup(res.text, 'html.parser')\n",
    "\n",
    "news = [p.text.strip() for p in soup.select('h1 ~ p') if p.find('font')] # need this explained \n",
    "\n",
    "x = str(news[0])\n",
    "\n",
    "v = x.split('\\xa0 —  \\xa0')[0]\n",
    "\n",
    "y = x.split('\\xa0 —  \\xa0')[1]\n",
    "\n",
    "print(\"Details: \" + y)\n",
    "\n",
    "accountSID = data['sid']\n",
    "authToken = data['authToken']\n",
    "twilioCli = Client(accountSID, authToken)\n",
    "\n",
    "myTwilioNumber = data['twilioNumber']\n",
    "myCellPhone = data['myNumber']\n",
    "\n",
    "message = twilioCli.messages.create(body = 'Warning: Shark sighting off the coast of ' + v + 'Beach !', from_=myTwilioNumber, to=myCellPhone)\n"
   ]
  },
  {
   "cell_type": "code",
   "execution_count": null,
   "metadata": {},
   "outputs": [],
   "source": []
  }
 ],
 "metadata": {
  "kernelspec": {
   "display_name": "Python 3",
   "language": "python",
   "name": "python3"
  },
  "language_info": {
   "codemirror_mode": {
    "name": "ipython",
    "version": 3
   },
   "file_extension": ".py",
   "mimetype": "text/x-python",
   "name": "python",
   "nbconvert_exporter": "python",
   "pygments_lexer": "ipython3",
   "version": "3.6.6"
  }
 },
 "nbformat": 4,
 "nbformat_minor": 2
}
