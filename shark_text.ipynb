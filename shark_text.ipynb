{
 "cells": [
  {
   "cell_type": "markdown",
   "metadata": {},
   "source": [
    "# Shark Sighting Texts"
   ]
  },
  {
   "cell_type": "code",
   "execution_count": 6,
   "metadata": {},
   "outputs": [],
   "source": [
    "import twilio\n",
    "from twilio.rest import Client\n",
    "import json\n",
    "import bs4\n",
    "import requests\n",
    "\n",
    "data = json.loads(open('secret.json', 'r').read())\n",
    "# secret.json password storage\n",
    "\n",
    "res = requests.get('http://www.sharkresearchcommittee.com/pacific_coast_shark_news.htm')\n",
    "res.raise_for_status()\n",
    "soup = bs4.BeautifulSoup(res.text, 'html.parser')\n",
    "elems = soup.select('body > div > div > center > table > tr > td:nth-of-type(2) > p:nth-of-type(8) > strong > font')\n",
    "v = elems[0].text\n",
    "\n",
    "accountSID = data['sid']\n",
    "authToken = data['authToken']\n",
    "twilioCli = Client(accountSID, authToken)\n",
    "\n",
    "myTwilioNumber = data['twilioNumber']\n",
    "myCellPhone = data['myNumber']\n",
    "\n",
    "message = twilioCli.messages.create(body = 'Warning: Shark sighting off the coast of ' + v + 'Beach !', from_=myTwilioNumber, to=myCellPhone)\n",
    "\n",
    "\n"
   ]
  },
  {
   "cell_type": "markdown",
   "metadata": {},
   "source": [
    "![tilte](./img/txt.jpg)"
   ]
  },
  {
   "cell_type": "code",
   "execution_count": null,
   "metadata": {},
   "outputs": [],
   "source": []
  }
 ],
 "metadata": {
  "kernelspec": {
   "display_name": "Python 3",
   "language": "python",
   "name": "python3"
  },
  "language_info": {
   "codemirror_mode": {
    "name": "ipython",
    "version": 3
   },
   "file_extension": ".py",
   "mimetype": "text/x-python",
   "name": "python",
   "nbconvert_exporter": "python",
   "pygments_lexer": "ipython3",
   "version": "3.6.5"
  }
 },
 "nbformat": 4,
 "nbformat_minor": 2
}
